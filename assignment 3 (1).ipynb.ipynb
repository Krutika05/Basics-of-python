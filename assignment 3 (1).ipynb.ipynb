{
 "cells": [
  {
   "cell_type": "code",
   "execution_count": 13,
   "id": "fd1cc25f",
   "metadata": {},
   "outputs": [
    {
     "name": "stdout",
     "output_type": "stream",
     "text": [
      "[ 0  1  2  3  4  5  6  7  8  9 10]\n",
      "the PMF values are [0.00097656 0.00976563 0.04394531 0.1171875  0.20507812 0.24609375\n",
      " 0.20507812 0.1171875  0.04394531 0.00976563 0.00097656]\n",
      "the CDF values are [9.76562500e-04 1.07421875e-02 5.46875000e-02 1.71875000e-01\n",
      " 3.76953125e-01 6.23046875e-01 8.28125000e-01 9.45312500e-01\n",
      " 9.89257812e-01 9.99023438e-01 1.00000000e+00]\n"
     ]
    }
   ],
   "source": [
    "#Q57 write program to calculate PMF and CDF of binomial distribution with parameters n=10,p=0.5\n",
    "#put k=1\n",
    "import numpy as np\n",
    "import scipy\n",
    "n,p = 10,0.5\n",
    "x=np.arange(11)\n",
    "print(x)\n",
    "Z=scipy.stats.binom.pmf(x,n,p)\n",
    "print(\"the PMF values are\",Z)\n",
    "X=scipy.stats.binom.cdf(x,n,p)\n",
    "print(\"the CDF values are\",X)"
   ]
  },
  {
   "cell_type": "code",
   "execution_count": 17,
   "id": "0d01fcd2",
   "metadata": {},
   "outputs": [
    {
     "name": "stdout",
     "output_type": "stream",
     "text": [
      "the values of PMF are [0.5        0.25       0.125      0.0625     0.03125    0.015625\n",
      " 0.0078125  0.00390625 0.00195312 0.00097656]\n",
      "the values of CDF are [0.5        0.75       0.875      0.9375     0.96875    0.984375\n",
      " 0.9921875  0.99609375 0.99804688 0.99902344]\n"
     ]
    }
   ],
   "source": [
    "#Q58 write a program to calculate pmf and cdf of geometric distribution with parameter p=0.5\n",
    "from scipy.stats import geom\n",
    "x=[1,2,3,4,5,6,7,8,9,10]\n",
    "p = 0.5\n",
    "# calculare the geometric probability distribution\n",
    "G=geom.pmf(x,p)\n",
    "print(\"the values of PMF are\",G)\n",
    "H=geom.cdf(x,p)\n",
    "print(\"the values of CDF are\",H)\n"
   ]
  },
  {
   "cell_type": "code",
   "execution_count": 21,
   "id": "7e595238",
   "metadata": {},
   "outputs": [
    {
     "name": "stdout",
     "output_type": "stream",
     "text": [
      "MEAN 20\n",
      "MEDIAN 20\n",
      "MODE 10\n"
     ]
    }
   ],
   "source": [
    "#Q58 write program to calculate and print mean,median,mode,variance,coefficient of \n",
    "#variation of the following frequency distribuion\n",
    "import statistics\n",
    "Z=[10,20,40,21,9]\n",
    "A=statistics.mean([10,20,40,21,9])\n",
    "print(\"MEAN\",A)\n",
    "B=statistics.median([10,20,40,21,9])\n",
    "print(\"MEDIAN\",B)\n",
    "C=statistics.mode([10,20,40,21,9])\n",
    "print(\"MODE\",C)"
   ]
  },
  {
   "cell_type": "code",
   "execution_count": 22,
   "id": "8f9c9ccf",
   "metadata": {},
   "outputs": [
    {
     "name": "stdout",
     "output_type": "stream",
     "text": [
      "mean is 24.29\n",
      "variance is 56.010900000000014\n",
      "coefficient of variation is 32.47786752529941\n"
     ]
    }
   ],
   "source": [
    "#Q60 write program to find mean ,variance and coefficient of variation of n observations\n",
    "#hence find and print the three values for the following set of observations\n",
    "import numpy\n",
    "S=[30.1,23.5,27.9,13.4,15.8,14.9,32.9,35.2,29.1,20.1]\n",
    "# MEAN:-\n",
    "M=numpy.mean(S)\n",
    "print(\"mean is\",M)\n",
    "# VARIANCE:-\n",
    "X=numpy.var(S)\n",
    "print(\"variance is\",X)\n",
    "# COEFFICIENT OF VARIATION:-\n",
    "CV=lambda x:numpy.std(x,ddof=1)/numpy.mean(x)*100\n",
    "Z=CV(S)\n",
    "print(\"coefficient of variation is\",Z)\n",
    "\n"
   ]
  },
  {
   "cell_type": "code",
   "execution_count": 65,
   "id": "405806d0",
   "metadata": {
    "scrolled": true
   },
   "outputs": [
    {
     "name": "stdout",
     "output_type": "stream",
     "text": [
      "[[1.         0.98724189]\n",
      " [0.98724189 1.        ]]\n",
      "the coefficient of determination is -1.736842105263158\n"
     ]
    }
   ],
   "source": [
    "#Q61 and Q62 the length and weight of a sample of six articles manufactured by a factory are given here\n",
    "# write a program to find regression equation Y on X ,\n",
    "#correlation coefficient and coefficient of determination n pairs of values X and Y\n",
    "#length(X)=(3,5,6,7,10,4,12,13,14)\n",
    "#weight(Y)=(8,12,11,14,16,17,10,18,20,21)\n",
    "import numpy as np \n",
    "import matplotlib.pyplot as plt\n",
    "from sklearn.metrics import mean_squared_error,r2_score\n",
    "\n",
    "#correlation coefficient \n",
    "import numpy as np \n",
    "import matplotlib.pyplot as plt\n",
    "x=np.array([3,5,6,7,10,11,4,12,13,14])\n",
    "y=np.array([8,12,11,14,16,17,10,18,20,21])\n",
    "A=np.corrcoef(x,y)\n",
    "print(A)\n",
    "#coefficient of determination\n",
    "R2=r2_score(x,y)\n",
    "print(\"the coefficient of determination is\",R2)\n"
   ]
  },
  {
   "cell_type": "code",
   "execution_count": 47,
   "id": "466eb323",
   "metadata": {
    "scrolled": true
   },
   "outputs": [
    {
     "name": "stdout",
     "output_type": "stream",
     "text": [
      "sorted in ascending order is [10.61, 15.01, 26.86, 33.33, 49.17, 51.93, 55.82, 61.67, 75.94, 76.78]\n",
      "median is 50.55\n"
     ]
    }
   ],
   "source": [
    "#Q63 write program to arrange a set of n observations in ascending order find the median, \n",
    "#hence arrange following observations in assending order and find the median\n",
    "Q=(26.86,33.33,55.82,10.61,51.93,75.94,61.67,15.01,49.17,76.78)\n",
    "Q1=sorted(Q)\n",
    "print(\"sorted in ascending order is\",Q1)\n",
    "import numpy as np\n",
    "M=np.median(Q1)\n",
    "print(\"median is\",M)"
   ]
  },
  {
   "cell_type": "code",
   "execution_count": 43,
   "id": "96fffdb6",
   "metadata": {},
   "outputs": [
    {
     "name": "stdout",
     "output_type": "stream",
     "text": [
      "sorted in Ascending order as [3.16, 10.15, 18.11, 36.66, 49.03, 66.73, 71.81, 79.94, 81.31, 95.34]\n",
      "median of the observation is 57.88\n"
     ]
    }
   ],
   "source": [
    "#Q64 write a program to arrange a set of n observations in assending order and find the median hence arrange\n",
    "# the followng observations in assending order and find the median.\n",
    "C=(18.11,95.34,81.31,36.66,10.15,71.81,3.16,66.73,49.03,79.94)\n",
    "C1=sorted(C)\n",
    "print(\"sorted in Ascending order as\",C1)\n",
    "import numpy as np\n",
    "M=np.median(C1)\n",
    "print(\"median of the observation is\",M)"
   ]
  },
  {
   "cell_type": "code",
   "execution_count": null,
   "id": "85741179",
   "metadata": {},
   "outputs": [],
   "source": []
  },
  {
   "cell_type": "code",
   "execution_count": null,
   "id": "fce528e9",
   "metadata": {},
   "outputs": [],
   "source": [
    "#SKIP Question number  [61] AND [62] as informed by sir"
   ]
  }
 ],
 "metadata": {
  "kernelspec": {
   "display_name": "Python 3 (ipykernel)",
   "language": "python",
   "name": "python3"
  },
  "language_info": {
   "codemirror_mode": {
    "name": "ipython",
    "version": 3
   },
   "file_extension": ".py",
   "mimetype": "text/x-python",
   "name": "python",
   "nbconvert_exporter": "python",
   "pygments_lexer": "ipython3",
   "version": "3.9.7"
  }
 },
 "nbformat": 4,
 "nbformat_minor": 5
}
