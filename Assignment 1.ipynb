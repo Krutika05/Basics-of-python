{
 "cells": [
  {
   "cell_type": "code",
   "execution_count": 8,
   "id": "64b05834",
   "metadata": {},
   "outputs": [],
   "source": [
    "# Create List "
   ]
  },
  {
   "cell_type": "code",
   "execution_count": 2,
   "id": "7133ec26",
   "metadata": {},
   "outputs": [
    {
     "name": "stdout",
     "output_type": "stream",
     "text": [
      "['Kruitka Jagtap', 'Rollno 9185', 'Sir Parshurambhau College ,TYBsc,Statistics Department']\n",
      "<class 'list'>\n"
     ]
    }
   ],
   "source": [
    "A=[\"Kruitka Jagtap\",\"Rollno 9185\"]\n",
    "B=[\"Sir Parshurambhau College ,TYBsc,Statistics Department\"]\n",
    "Z=A+B\n",
    "print(Z)\n",
    "print(type(Z))"
   ]
  },
  {
   "cell_type": "code",
   "execution_count": 3,
   "id": "5a20c23a",
   "metadata": {},
   "outputs": [
    {
     "data": {
      "text/plain": [
       "'Rollno 9185'"
      ]
     },
     "execution_count": 3,
     "metadata": {},
     "output_type": "execute_result"
    }
   ],
   "source": [
    "#Access Items \n",
    "A[1]"
   ]
  },
  {
   "cell_type": "code",
   "execution_count": 4,
   "id": "11baf936",
   "metadata": {},
   "outputs": [
    {
     "name": "stdout",
     "output_type": "stream",
     "text": [
      "Rollno 9185\n"
     ]
    }
   ],
   "source": [
    "# Negative Index\n",
    "print(A[-1])"
   ]
  },
  {
   "cell_type": "code",
   "execution_count": 5,
   "id": "29363079",
   "metadata": {},
   "outputs": [
    {
     "name": "stdout",
     "output_type": "stream",
     "text": [
      "['Kruitka Jagtap', 'Rollno 9185']\n",
      "['Kruitka Jagtap', '9185']\n"
     ]
    }
   ],
   "source": [
    "# Change Items in the list\n",
    "print(A)\n",
    "A[1]=\"9185\"\n",
    "print(A)"
   ]
  },
  {
   "cell_type": "code",
   "execution_count": 6,
   "id": "c2235a66",
   "metadata": {},
   "outputs": [
    {
     "name": "stdout",
     "output_type": "stream",
     "text": [
      "['Kruitka Jagtap', '9185']\n",
      "['Kruitka Jagtap', '9185']\n"
     ]
    }
   ],
   "source": [
    "# Looping Through List\n",
    "for a in A:\n",
    "    print(A)\n",
    "    "
   ]
  },
  {
   "cell_type": "code",
   "execution_count": 7,
   "id": "e2a91763",
   "metadata": {},
   "outputs": [
    {
     "name": "stdout",
     "output_type": "stream",
     "text": [
      "[1, 2, 4, ['Q', 'E', 'A', [1, 1]]]\n"
     ]
    }
   ],
   "source": [
    "# Nested list\n",
    "mylist=[1,2,4,['Q','E','A',[1,1]]]\n",
    "print(mylist)"
   ]
  },
  {
   "cell_type": "code",
   "execution_count": 8,
   "id": "a2caa1be",
   "metadata": {},
   "outputs": [
    {
     "name": "stdout",
     "output_type": "stream",
     "text": [
      "['Kruitka Jagtap', '9185', 'TYBsc']\n"
     ]
    }
   ],
   "source": [
    "#append\n",
    "# Add and element in the end of the list\n",
    "A.append(\"TYBsc\")\n",
    "print(A)"
   ]
  },
  {
   "cell_type": "code",
   "execution_count": 13,
   "id": "4ceadde5",
   "metadata": {},
   "outputs": [
    {
     "name": "stdout",
     "output_type": "stream",
     "text": [
      "['Krutika', 'Jagtap', '9185', 'TYBsc']\n"
     ]
    }
   ],
   "source": [
    "#copy\n",
    "#Return a copy of the list\n",
    "A=['Krutika', 'Jagtap','9185','TYBsc']\n",
    "A1=A.copy()\n",
    "print(A1)"
   ]
  },
  {
   "cell_type": "code",
   "execution_count": 14,
   "id": "9bfe73bc",
   "metadata": {},
   "outputs": [
    {
     "name": "stdout",
     "output_type": "stream",
     "text": [
      "['Krutika', 'Jagtap', '9185', 'TYBsc']\n"
     ]
    }
   ],
   "source": [
    "print(A)\n"
   ]
  },
  {
   "cell_type": "code",
   "execution_count": 15,
   "id": "c352c57e",
   "metadata": {},
   "outputs": [
    {
     "name": "stdout",
     "output_type": "stream",
     "text": [
      "1\n"
     ]
    }
   ],
   "source": [
    "#count\n",
    "#return the element with value\n",
    "A.append(\"Statistics\")\n",
    "D=A.count(\"Statistics\")\n",
    "print(D)"
   ]
  },
  {
   "cell_type": "code",
   "execution_count": 16,
   "id": "1c12e993",
   "metadata": {},
   "outputs": [
    {
     "name": "stdout",
     "output_type": "stream",
     "text": [
      "5\n"
     ]
    }
   ],
   "source": [
    "#len():lenth of the list\n",
    "print(len(A))"
   ]
  },
  {
   "cell_type": "code",
   "execution_count": 17,
   "id": "1c1f6281",
   "metadata": {},
   "outputs": [
    {
     "name": "stdout",
     "output_type": "stream",
     "text": [
      "['Krutika', '9185', 'TYBsc', 'Statistics']\n",
      "4\n"
     ]
    }
   ],
   "source": [
    "#pop \n",
    "#Remove an element form specific position\n",
    "A.pop(1)\n",
    "print(A)\n",
    "print(len(A))"
   ]
  },
  {
   "cell_type": "code",
   "execution_count": 18,
   "id": "952e965c",
   "metadata": {},
   "outputs": [
    {
     "name": "stdout",
     "output_type": "stream",
     "text": [
      "['Statistics', 'TYBsc', '9185', 'Krutika']\n"
     ]
    }
   ],
   "source": [
    "# Reverse\n",
    "#Revere the list\n",
    "A.reverse()\n",
    "print(A)"
   ]
  },
  {
   "cell_type": "code",
   "execution_count": 19,
   "id": "a34bb531",
   "metadata": {},
   "outputs": [
    {
     "name": "stdout",
     "output_type": "stream",
     "text": [
      "['9185', 'Krutika', 'Statistics', 'TYBsc']\n"
     ]
    }
   ],
   "source": [
    "#Sort\n",
    "#sort the list\n",
    "A.sort()\n",
    "print(A)"
   ]
  },
  {
   "cell_type": "code",
   "execution_count": 20,
   "id": "0541db55",
   "metadata": {},
   "outputs": [],
   "source": [
    "# Create tupils"
   ]
  },
  {
   "cell_type": "code",
   "execution_count": 21,
   "id": "316b46f0",
   "metadata": {},
   "outputs": [
    {
     "name": "stdout",
     "output_type": "stream",
     "text": [
      "('krutika Jagtap', 'Rollno 9185')\n",
      "('S.P College', 'Statistics', 'TYBsc')\n"
     ]
    }
   ],
   "source": [
    "\n",
    "a=('krutika Jagtap','Rollno 9185')\n",
    "b=('S.P College','Statistics','TYBsc')\n",
    "print(a)\n",
    "print(b)"
   ]
  },
  {
   "cell_type": "code",
   "execution_count": 22,
   "id": "0bf3c878",
   "metadata": {},
   "outputs": [
    {
     "data": {
      "text/plain": [
       "'Rollno 9185'"
      ]
     },
     "execution_count": 22,
     "metadata": {},
     "output_type": "execute_result"
    }
   ],
   "source": [
    "#access the element\n",
    "(a[1])"
   ]
  },
  {
   "cell_type": "code",
   "execution_count": 23,
   "id": "09d117d4",
   "metadata": {},
   "outputs": [
    {
     "name": "stdout",
     "output_type": "stream",
     "text": [
      "(1, 2, 5, 7, 8, 9, 0, 4, 6, 7, 0)\n"
     ]
    }
   ],
   "source": [
    "#tuple():Create tuple with elements Specified\n",
    "T=tuple((1,2,5,7,8,9,0,4,6,7,0))\n",
    "print(T)"
   ]
  },
  {
   "cell_type": "code",
   "execution_count": 24,
   "id": "99c93f54",
   "metadata": {},
   "outputs": [
    {
     "data": {
      "text/plain": [
       "11"
      ]
     },
     "execution_count": 24,
     "metadata": {},
     "output_type": "execute_result"
    }
   ],
   "source": [
    "#len():Give number of elements\n",
    "len(T)"
   ]
  },
  {
   "cell_type": "code",
   "execution_count": 25,
   "id": "df6ca768",
   "metadata": {},
   "outputs": [
    {
     "data": {
      "text/plain": [
       "('krutika Jagtap', 'Rollno 9185', 'S.P College', 'Statistics', 'TYBsc')"
      ]
     },
     "execution_count": 25,
     "metadata": {},
     "output_type": "execute_result"
    }
   ],
   "source": [
    "#Add tupiles \n",
    "a+b"
   ]
  },
  {
   "cell_type": "code",
   "execution_count": 26,
   "id": "f94762d8",
   "metadata": {},
   "outputs": [
    {
     "name": "stdout",
     "output_type": "stream",
     "text": [
      "(1, 2, 5, 7, 8, 9, 0, 4, 6, 7, 0)\n"
     ]
    },
    {
     "data": {
      "text/plain": [
       "2"
      ]
     },
     "execution_count": 26,
     "metadata": {},
     "output_type": "execute_result"
    }
   ],
   "source": [
    "#index(): Serches the puple for slected value\n",
    "print(T)\n",
    "T.index(5)"
   ]
  },
  {
   "cell_type": "code",
   "execution_count": 27,
   "id": "14679195",
   "metadata": {},
   "outputs": [],
   "source": [
    "# list are written in square brackets and tupils are written in round brackets."
   ]
  }
 ],
 "metadata": {
  "kernelspec": {
   "display_name": "Python 3 (ipykernel)",
   "language": "python",
   "name": "python3"
  },
  "language_info": {
   "codemirror_mode": {
    "name": "ipython",
    "version": 3
   },
   "file_extension": ".py",
   "mimetype": "text/x-python",
   "name": "python",
   "nbconvert_exporter": "python",
   "pygments_lexer": "ipython3",
   "version": "3.9.7"
  }
 },
 "nbformat": 4,
 "nbformat_minor": 5
}
