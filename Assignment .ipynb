{
 "cells": [
  {
   "cell_type": "code",
   "execution_count": null,
   "id": "64b05834",
   "metadata": {},
   "outputs": [],
   "source": [
    "# Create List "
   ]
  },
  {
   "cell_type": "code",
   "execution_count": 8,
   "id": "7133ec26",
   "metadata": {},
   "outputs": [
    {
     "name": "stdout",
     "output_type": "stream",
     "text": [
      "['Kruitka Jagtap,Rollno 9185 ', 'Sir Parshurambhau College ,TYBsc,Statistics Department']\n",
      "<class 'list'>\n"
     ]
    }
   ],
   "source": [
    "A=[\"Kruitka Jagtap,Rollno 9185 \"]\n",
    "B=[\"Sir Parshurambhau College ,TYBsc,Statistics Department\"]\n",
    "Z=A+B\n",
    "print(Z)\n",
    "print(type(Z))"
   ]
  },
  {
   "cell_type": "code",
   "execution_count": null,
   "id": "0541db55",
   "metadata": {},
   "outputs": [],
   "source": [
    "# Create tupils"
   ]
  },
  {
   "cell_type": "code",
   "execution_count": 9,
   "id": "316b46f0",
   "metadata": {},
   "outputs": [
    {
     "name": "stdout",
     "output_type": "stream",
     "text": [
      "('krutika Jagtap', 'Rollno 9185')\n",
      "('S.P College', 'Statistics', 'TYBsc')\n"
     ]
    }
   ],
   "source": [
    "a=('krutika Jagtap','Rollno 9185')\n",
    "b=('S.P College','Statistics','TYBsc')\n",
    "print(a)\n",
    "print(b)"
   ]
  },
  {
   "cell_type": "code",
   "execution_count": null,
   "id": "14679195",
   "metadata": {},
   "outputs": [],
   "source": [
    "# list are written in square brackets and tupils are written in round brackets."
   ]
  }
 ],
 "metadata": {
  "kernelspec": {
   "display_name": "Python 3 (ipykernel)",
   "language": "python",
   "name": "python3"
  },
  "language_info": {
   "codemirror_mode": {
    "name": "ipython",
    "version": 3
   },
   "file_extension": ".py",
   "mimetype": "text/x-python",
   "name": "python",
   "nbconvert_exporter": "python",
   "pygments_lexer": "ipython3",
   "version": "3.9.7"
  }
 },
 "nbformat": 4,
 "nbformat_minor": 5
}
