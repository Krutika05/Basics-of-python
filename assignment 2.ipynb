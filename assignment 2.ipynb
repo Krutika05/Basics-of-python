{
 "cells": [
  {
   "cell_type": "code",
   "execution_count": 17,
   "id": "62a80b11",
   "metadata": {},
   "outputs": [
    {
     "name": "stdout",
     "output_type": "stream",
     "text": [
      "nohtyp\n"
     ]
    }
   ],
   "source": [
    "#Q1 write a python user definne function to reverse a string\n",
    "# Reverse a funtion Reversed() is used\n",
    "# function to reverse a string \n",
    "\n",
    "S=\"python\"[::-1]\n",
    "print(S)\n",
    "\n"
   ]
  },
  {
   "cell_type": "code",
   "execution_count": 4,
   "id": "22a90cce",
   "metadata": {},
   "outputs": [
    {
     "name": "stdout",
     "output_type": "stream",
     "text": [
      "minimim value from Z is 0.5\n",
      "maximim value from X is 100\n"
     ]
    }
   ],
   "source": [
    "#Q2 write a python min_max function which will return min, max of 4 out puts from user \n",
    "Z=(2,3,4,0.5)\n",
    "X=(56,23,1,100)\n",
    "print(\"minimim value from Z is\",min(Z))\n",
    "print(\"maximim value from X is\",max(X))      "
   ]
  },
  {
   "cell_type": "code",
   "execution_count": 9,
   "id": "3c685edc",
   "metadata": {},
   "outputs": [
    {
     "name": "stdout",
     "output_type": "stream",
     "text": [
      "11\n",
      "75\n",
      "59\n",
      "54\n"
     ]
    }
   ],
   "source": [
    "#Q3 write a python function to sum 4 inputs from the user\n",
    "A=(1,2,3,5)\n",
    "B=(6,9,56,4)\n",
    "C=(44,12,3,0)\n",
    "D=(7,8,29,10)\n",
    "S1=sum(A)\n",
    "S2=sum(B)\n",
    "S3=sum(C)\n",
    "S4=sum(D)\n",
    "print(S1)\n",
    "print(S2)\n",
    "print(S3)\n",
    "print(S4)"
   ]
  },
  {
   "cell_type": "code",
   "execution_count": 7,
   "id": "9c4b7781",
   "metadata": {},
   "outputs": [
    {
     "name": "stdout",
     "output_type": "stream",
     "text": [
      "The Number of Local Variables in the given User Defined Fuction is:  0\n",
      "The Number of Local Variables in the given User Defined Fuction is:  0\n"
     ]
    }
   ],
   "source": [
    "#Q4 find out the command which will return you number of local variables from the user and define the function\n",
    "# User define function is Sum4\n",
    "# the syntax is User_Defined_Function_Name.__Code__.co_nlocals\n",
    "def Sum4():\n",
    "    print(\"The Number of Local Variables in the given User Defined Fuction is: \" ,Sum4.__code__.co_nlocals)\n",
    "Sum4()\n",
    "print(\"The Number of Local Variables in the given User Defined Fuction is: \" ,Sum4.__code__.co_nlocals)"
   ]
  },
  {
   "cell_type": "code",
   "execution_count": 12,
   "id": "7435e386",
   "metadata": {},
   "outputs": [
    {
     "name": "stdout",
     "output_type": "stream",
     "text": [
      "[2, 4, 6, 8, 24, 66, 46, 78]\n"
     ]
    }
   ],
   "source": [
    "#Q5 write pythom function to get even number from the list. list length must be equal to 8\n",
    "def is_even_num(l):\n",
    "    enum = []\n",
    "    for n in l:\n",
    "        if n % 2 == 0:\n",
    "            enum.append(n)\n",
    "    return enum\n",
    "print(is_even_num([1, 2, 3, 4, 5, 6, 7, 8, 9,24,25,65,66,46,78,77,99,11,21]))\n",
    "\n",
    "\n"
   ]
  },
  {
   "cell_type": "code",
   "execution_count": null,
   "id": "0d917555",
   "metadata": {},
   "outputs": [],
   "source": []
  }
 ],
 "metadata": {
  "kernelspec": {
   "display_name": "Python 3 (ipykernel)",
   "language": "python",
   "name": "python3"
  },
  "language_info": {
   "codemirror_mode": {
    "name": "ipython",
    "version": 3
   },
   "file_extension": ".py",
   "mimetype": "text/x-python",
   "name": "python",
   "nbconvert_exporter": "python",
   "pygments_lexer": "ipython3",
   "version": "3.9.7"
  }
 },
 "nbformat": 4,
 "nbformat_minor": 5
}
